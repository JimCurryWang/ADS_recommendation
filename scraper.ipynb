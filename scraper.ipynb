{
 "cells": [
  {
   "cell_type": "code",
   "execution_count": 1,
   "metadata": {},
   "outputs": [],
   "source": [
    "# https://en.wikipedia.org/wiki/Motion_picture_content_rating_system\n",
    "\n",
    "\n",
    "import requests \n",
    "import re \n",
    "import json\n",
    "import pandas as pd \n",
    "from bs4 import BeautifulSoup\n",
    "from urllib.parse import urlencode,quote,unquote\n",
    "from random import randint"
   ]
  },
  {
   "cell_type": "code",
   "execution_count": 2,
   "metadata": {},
   "outputs": [],
   "source": [
    "# https://grouplens.org/datasets/movielens/\n",
    "\n",
    "links = pd.read_csv(\"ml-latest-small/links.csv\")\n",
    "movies = pd.read_csv(\"ml-latest-small/movies.csv\")\n",
    "ratings = pd.read_csv(\"ml-latest-small/ratings.csv\")\n",
    "tags = pd.read_csv(\"ml-latest-small/tags.csv\")"
   ]
  },
  {
   "cell_type": "raw",
   "metadata": {},
   "source": []
  },
  {
   "cell_type": "code",
   "execution_count": 3,
   "metadata": {},
   "outputs": [
    {
     "data": {
      "text/html": [
       "<div>\n",
       "<style scoped>\n",
       "    .dataframe tbody tr th:only-of-type {\n",
       "        vertical-align: middle;\n",
       "    }\n",
       "\n",
       "    .dataframe tbody tr th {\n",
       "        vertical-align: top;\n",
       "    }\n",
       "\n",
       "    .dataframe thead th {\n",
       "        text-align: right;\n",
       "    }\n",
       "</style>\n",
       "<table border=\"1\" class=\"dataframe\">\n",
       "  <thead>\n",
       "    <tr style=\"text-align: right;\">\n",
       "      <th></th>\n",
       "      <th>movieId</th>\n",
       "      <th>imdbId</th>\n",
       "      <th>tmdbId</th>\n",
       "    </tr>\n",
       "  </thead>\n",
       "  <tbody>\n",
       "    <tr>\n",
       "      <th>0</th>\n",
       "      <td>1</td>\n",
       "      <td>114709</td>\n",
       "      <td>862.0</td>\n",
       "    </tr>\n",
       "    <tr>\n",
       "      <th>1</th>\n",
       "      <td>2</td>\n",
       "      <td>113497</td>\n",
       "      <td>8844.0</td>\n",
       "    </tr>\n",
       "    <tr>\n",
       "      <th>2</th>\n",
       "      <td>3</td>\n",
       "      <td>113228</td>\n",
       "      <td>15602.0</td>\n",
       "    </tr>\n",
       "    <tr>\n",
       "      <th>3</th>\n",
       "      <td>4</td>\n",
       "      <td>114885</td>\n",
       "      <td>31357.0</td>\n",
       "    </tr>\n",
       "    <tr>\n",
       "      <th>4</th>\n",
       "      <td>5</td>\n",
       "      <td>113041</td>\n",
       "      <td>11862.0</td>\n",
       "    </tr>\n",
       "  </tbody>\n",
       "</table>\n",
       "</div>"
      ],
      "text/plain": [
       "   movieId  imdbId   tmdbId\n",
       "0        1  114709    862.0\n",
       "1        2  113497   8844.0\n",
       "2        3  113228  15602.0\n",
       "3        4  114885  31357.0\n",
       "4        5  113041  11862.0"
      ]
     },
     "execution_count": 3,
     "metadata": {},
     "output_type": "execute_result"
    }
   ],
   "source": [
    "links.head()"
   ]
  },
  {
   "cell_type": "code",
   "execution_count": 4,
   "metadata": {},
   "outputs": [],
   "source": [
    "imbdid = list(links['imdbId'])"
   ]
  },
  {
   "cell_type": "code",
   "execution_count": 5,
   "metadata": {},
   "outputs": [],
   "source": [
    "def get_sku_page(code):\n",
    "    headers = {\n",
    "            \"content-language\": \"en-US\",\n",
    "            \"content-type\": \"text/html;charset=UTF-8\",    \n",
    "            \"entity-id\": \"tt0\".format(114709),\n",
    "            \"server\": \"Server\"\n",
    "            }\n",
    "    try:\n",
    "        url = 'https://www.imdb.com/title/tt0{}/'.format(code)\n",
    "        res = requests.get(url,headers = headers,timeout=10)\n",
    "        return res.text \n",
    "    except Exception as e:\n",
    "        print(e)\n",
    "\n",
    "def paraser(html):\n",
    "    soup = BeautifulSoup(html, 'html.parser')\n",
    "    title = soup.find('div',{'class':'title_wrapper'})\n",
    "    subtext = title.find('div',{'class':'subtext'})\n",
    "    rating = subtext.text.strip()\n",
    "    rating = rating.split(\"|\",1)[0]\n",
    "    \n",
    "    info = soup.find('a',{'title':'See more release dates'})\n",
    "    \n",
    "    result = {\n",
    "        \"subtext\": rating.strip(),\n",
    "        \"info\":info.text.strip()\n",
    "    }\n",
    "    return result\n",
    "\n",
    "def run(code):\n",
    "    resp = get_sku_page(code)\n",
    "    result = paraser(html=resp)\n",
    "    \n",
    "    result['code'] = code\n",
    "    result['url'] = 'https://www.imdb.com/title/tt0{}'.format(code)\n",
    "    print(result)\n",
    "    return result\n",
    "\n",
    "def test():\n",
    "    code = 113228\n",
    "    code = 114709\n",
    "    resp = get_sku_page(code)\n",
    "    result = paraser(html=resp)\n",
    "    result['code'] = code\n",
    "    result['url'] = 'https://www.imdb.com/title/tt0{}'.format(code)\n",
    "    print(result)"
   ]
  },
  {
   "cell_type": "code",
   "execution_count": 112,
   "metadata": {},
   "outputs": [
    {
     "name": "stdout",
     "output_type": "stream",
     "text": [
      "{'subtext': 'AL', 'info': '4 April 1996 (Netherlands)', 'code': 114709, 'url': 'https://www.imdb.com/title/tt0114709'}\n"
     ]
    }
   ],
   "source": [
    "test()"
   ]
  },
  {
   "cell_type": "code",
   "execution_count": 13,
   "metadata": {},
   "outputs": [
    {
     "name": "stdout",
     "output_type": "stream",
     "text": [
      "{'subtext': '12', 'info': '11 January 1996 (Netherlands)', 'code': 112792, 'url': 'https://www.imdb.com/title/tt0112792'}\n",
      "{'subtext': '12', 'info': '18 April 1996 (Netherlands)', 'code': 114746, 'url': 'https://www.imdb.com/title/tt0114746'}\n",
      "{'subtext': 'AL', 'info': '21 December 1995 (Netherlands)', 'code': 112431, 'url': 'https://www.imdb.com/title/tt0112431'}\n",
      "{'subtext': '16', 'info': '21 March 1996 (Netherlands)', 'code': 112818, 'url': 'https://www.imdb.com/title/tt0112818'}\n",
      "{'subtext': '6', 'info': '4 July 1996 (Netherlands)', 'code': 113442, 'url': 'https://www.imdb.com/title/tt0113442'}\n",
      "{'subtext': 'AL', 'info': '22 February 1996 (Netherlands)', 'code': 112697, 'url': 'https://www.imdb.com/title/tt0112697'}\n",
      "{'subtext': '6', 'info': '27 October 1995 (South Africa)', 'code': 112749, 'url': 'https://www.imdb.com/title/tt0112749'}\n",
      "{'subtext': '16', 'info': '20 June 1996 (Netherlands)', 'code': 114279, 'url': 'https://www.imdb.com/title/tt0114279'}\n",
      "{'subtext': 'R', 'info': '6 October 1995 (USA)', 'code': 112819, 'url': 'https://www.imdb.com/title/tt0112819'}\n",
      "{'subtext': '12', 'info': '12 June 1997 (Netherlands)', 'code': 114272, 'url': 'https://www.imdb.com/title/tt0114272'}\n",
      "{'subtext': '12', 'info': '5 October 1995 (Netherlands)', 'code': 113855, 'url': 'https://www.imdb.com/title/tt0113855'}\n",
      "{'subtext': '12', 'info': '8 February 1996 (Netherlands)', 'code': 114681, 'url': 'https://www.imdb.com/title/tt0114681'}\n",
      "{'subtext': 'PG-13', 'info': '6 June 1996 (Netherlands)', 'code': 113347, 'url': 'https://www.imdb.com/title/tt0113347'}\n",
      "{'subtext': '16', 'info': '9 November 1995 (Netherlands)', 'code': 114369, 'url': 'https://www.imdb.com/title/tt0114369'}\n",
      "{'subtext': 'AL', 'info': '22 November 1995 (Netherlands)', 'code': 114148, 'url': 'https://www.imdb.com/title/tt0114148'}\n"
     ]
    }
   ],
   "source": [
    "j = 0\n",
    "lst = []\n",
    "for i in imbdid[30:80]:\n",
    "    result = run(code=i)\n",
    "    lst.append(lst)\n",
    "    j += 1\n",
    "    if j == 15:\n",
    "        break\n",
    "df = pd.DataFrame(lst)"
   ]
  },
  {
   "cell_type": "code",
   "execution_count": null,
   "metadata": {},
   "outputs": [],
   "source": []
  }
 ],
 "metadata": {
  "kernelspec": {
   "display_name": "Python 3",
   "language": "python",
   "name": "python3"
  },
  "language_info": {
   "codemirror_mode": {
    "name": "ipython",
    "version": 3
   },
   "file_extension": ".py",
   "mimetype": "text/x-python",
   "name": "python",
   "nbconvert_exporter": "python",
   "pygments_lexer": "ipython3",
   "version": "3.8.3"
  }
 },
 "nbformat": 4,
 "nbformat_minor": 4
}
